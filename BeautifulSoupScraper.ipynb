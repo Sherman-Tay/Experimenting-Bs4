{
 "cells": [
  {
   "cell_type": "code",
   "execution_count": 106,
   "metadata": {},
   "outputs": [],
   "source": [
    "import bs4\n",
    "import requests\n",
    "import shutil\n",
    "from fpdf import FPDF\n",
    "from PIL import Image\n",
    "import glob\n",
    "\n",
    "class ImageScrape:\n",
    "    def __init__(self,url,chapter,download_path=None):\n",
    "        self.url = url\n",
    "        self.download_path = download_path\n",
    "        self.chapter = chapter\n",
    "        self.session = requests.session()\n",
    "        \n",
    "    def scrape_url(self):\n",
    "        response = self.session.get(self.url)\n",
    "        #check if ok\n",
    "        if response.status_code == 200:\n",
    "            soup = bs4.BeautifulSoup(response.text,'html.parser')\n",
    "            image = soup.find(\"p\",{\"id\":\"arraydata\",\"style\":\"display:none\"}).text\n",
    "            parsed_image = image.split(',')\n",
    "            first_page = parsed_image[0]\n",
    "            img_response = self.session.get(first_page,stream = True)\n",
    "            if img_response.status_code ==200: #if image url exists\n",
    "                with open(\"images/\"+str(self.chapter)+\"OnePiece.jpg\",'wb') as f:\n",
    "                    img_response.raw.decode_content = True\n",
    "                    shutil.copyfileobj(img_response.raw,f)\n",
    "                \n",
    "            #save into pdf (separate func)\n",
    "        \n",
    "    \n",
    "        #input url, output chapter, image list and pdf.\n",
    "    "
   ]
  },
  {
   "cell_type": "code",
   "execution_count": null,
   "metadata": {},
   "outputs": [],
   "source": [
    "for chapter in range (1,1001):\n",
    "    url = \"http://kissmangas.com/one-piece-chapter-\"+str(chapter)+\"#1\"\n",
    "    ImageScrape(url,chapter).scrape_url()"
   ]
  },
  {
   "cell_type": "code",
   "execution_count": null,
   "metadata": {},
   "outputs": [],
   "source": [
    "def compile_pdf(name):\n",
    "    image_list = []\n",
    "    for filename in glob.glob('images/*.jpg'): #as we saved as jpg\n",
    "        im=Image.open(filename)\n",
    "        image_list.append(im)\n",
    "    pdf = FPDF()\n",
    "    for image in image_list:\n",
    "        pdf.add_page()\n",
    "        pdf.image(image,x,y,w,h)\n",
    "    pdf.output(str(name)+\".pdf\",\"F\")\n",
    "    "
   ]
  },
  {
   "cell_type": "code",
   "execution_count": null,
   "metadata": {},
   "outputs": [],
   "source": []
  },
  {
   "cell_type": "code",
   "execution_count": 83,
   "metadata": {},
   "outputs": [
    {
     "name": "stdout",
     "output_type": "stream",
     "text": [
      "https://cm.blazefast.co/15/f9/15f9fe07a18e4fec207ec72b5ca32d1d.jpg\n"
     ]
    }
   ],
   "source": [
    "image1 = soup.find(\"p\",{\"id\":\"arraydata\",\"style\":\"display:none\"}).text\n",
    "extract = image1.split(',')\n",
    "first_page = extract[0]\n",
    "print(('%s' %(first_page)))"
   ]
  },
  {
   "cell_type": "code",
   "execution_count": 91,
   "metadata": {},
   "outputs": [
    {
     "name": "stdout",
     "output_type": "stream",
     "text": [
      "200\n"
     ]
    }
   ],
   "source": [
    "imgresponse = requests.session().get(first_page, stream=True)\n",
    "print(imgresponse.status_code)\n",
    "#os.chdir(r\"/mnt/c/Users/sherm/coding_workspace/funStuff/images\")\n",
    "if imgresponse.status_code==200:\n",
    "    with open(\"images/OnePiecePage1.jpg\",'wb') as f:\n",
    "        imgresponse.raw.decode_content = True\n",
    "        shutil.copyfileobj(imgresponse.raw,f)"
   ]
  },
  {
   "cell_type": "code",
   "execution_count": null,
   "metadata": {},
   "outputs": [],
   "source": [
    "\n",
    "url = \"http://kissmangas.com/one-piece-chapter-2#1\"\n",
    "\n",
    "response = requests.get(url)\n",
    "print(response.status_code)\n",
    "#404 is not ok. 200 is ok\n",
    "\n",
    "soup = bs4.BeautifulSoup(response.text,'html.parser')\n",
    "print(soup)\n",
    "image = soup.find('name=1')\n",
    "print(image)\n"
   ]
  }
 ],
 "metadata": {
  "kernelspec": {
   "display_name": "Python 3",
   "language": "python",
   "name": "python3"
  },
  "language_info": {
   "codemirror_mode": {
    "name": "ipython",
    "version": 3
   },
   "file_extension": ".py",
   "mimetype": "text/x-python",
   "name": "python",
   "nbconvert_exporter": "python",
   "pygments_lexer": "ipython3",
   "version": "3.8.2"
  }
 },
 "nbformat": 4,
 "nbformat_minor": 4
}
